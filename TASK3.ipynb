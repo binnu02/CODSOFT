{
  "nbformat": 4,
  "nbformat_minor": 0,
  "metadata": {
    "colab": {
      "provenance": [],
      "authorship_tag": "ABX9TyOCN/3kBRZ6ZfZmCrIHfICv",
      "include_colab_link": true
    },
    "kernelspec": {
      "name": "python3",
      "display_name": "Python 3"
    },
    "language_info": {
      "name": "python"
    }
  },
  "cells": [
    {
      "cell_type": "markdown",
      "metadata": {
        "id": "view-in-github",
        "colab_type": "text"
      },
      "source": [
        "<a href=\"https://colab.research.google.com/github/binnu02/CODSOFT/blob/main/TASK3.ipynb\" target=\"_parent\"><img src=\"https://colab.research.google.com/assets/colab-badge.svg\" alt=\"Open In Colab\"/></a>"
      ]
    },
    {
      "cell_type": "code",
      "execution_count": 1,
      "metadata": {
        "id": "XezZCMDafd8k"
      },
      "outputs": [],
      "source": [
        "import sklearn\n"
      ]
    },
    {
      "cell_type": "code",
      "source": [
        "pip install scikit-surprise\n"
      ],
      "metadata": {
        "colab": {
          "base_uri": "https://localhost:8080/"
        },
        "id": "6HA8rL8exGY_",
        "outputId": "3942bbc7-0712-4f5d-ee25-80c01319da30"
      },
      "execution_count": 2,
      "outputs": [
        {
          "output_type": "stream",
          "name": "stdout",
          "text": [
            "Requirement already satisfied: scikit-surprise in /usr/local/lib/python3.10/dist-packages (1.1.3)\n",
            "Requirement already satisfied: joblib>=1.0.0 in /usr/local/lib/python3.10/dist-packages (from scikit-surprise) (1.3.2)\n",
            "Requirement already satisfied: numpy>=1.17.3 in /usr/local/lib/python3.10/dist-packages (from scikit-surprise) (1.23.5)\n",
            "Requirement already satisfied: scipy>=1.3.2 in /usr/local/lib/python3.10/dist-packages (from scikit-surprise) (1.11.3)\n"
          ]
        }
      ]
    },
    {
      "cell_type": "code",
      "source": [
        "import pandas as pd\n",
        "from surprise import Dataset, Reader, KNNBasic\n",
        "from surprise.model_selection import cross_validate\n",
        "\n",
        "# Sample data of user-item ratings\n",
        "data = {\n",
        "    'user_id': ['User1', 'User1', 'User2', 'User2', 'User3', 'User3', 'User4', 'User4'],\n",
        "    'item_id': ['Movie1', 'Movie2', 'Movie2', 'Movie3', 'Movie1', 'Movie3', 'Movie4', 'Movie5'],\n",
        "    'rating': [5, 4, 3, 5, 2, 4, 3, 1]\n",
        "}\n",
        "\n",
        "ratings_df = pd.DataFrame(data)\n",
        "\n",
        "reader = Reader(rating_scale=(1, 5))\n",
        "data = Dataset.load_from_df(ratings_df[['user_id', 'item_id', 'rating']], reader)\n",
        "trainset = data.build_full_trainset()\n",
        "\n",
        "# Define the similarity measure (cosine similarity)\n",
        "sim_options = {\n",
        "    'name': 'cosine',\n",
        "    'user_based': True\n",
        "}\n",
        "\n",
        "# Create a KNN model with collaborative filtering\n",
        "model = KNNBasic(sim_options=sim_options)\n",
        "\n",
        "# Train the model on the training set\n",
        "model.fit(trainset)\n",
        "\n",
        "# Function to get movie recommendations for a user\n",
        "def get_movie_recommendations(user_id, n=5):\n",
        "    try:\n",
        "        # Get a list of all movie IDs\n",
        "        all_movie_ids = list(trainset.all_items())\n",
        "\n",
        "        # Remove movies the user has already seen\n",
        "        movies_seen_by_user = [item[0] for item in trainset.ur[trainset.to_inner_uid(user_id)]]\n",
        "        movies_to_predict = [movie_id for movie_id in all_movie_ids if movie_id not in movies_seen_by_user]\n",
        "\n",
        "        if not movies_to_predict:\n",
        "            raise ValueError(\"No movies left to predict. User has interacted with all available items.\")\n",
        "\n",
        "        # Predict ratings for movies not seen by the user\n",
        "        predictions = [model.predict(trainset.to_inner_uid(user_id), movie_id) for movie_id in movies_to_predict]\n",
        "\n",
        "        # Sort the predictions by estimated rating in descending order\n",
        "        sorted_predictions = sorted(predictions, key=lambda x: x.est, reverse=True)\n",
        "\n",
        "        # Get the top N recommendations\n",
        "        top_n_recommendations = sorted_predictions[:n]\n",
        "\n",
        "        # Extract movie indices from their predictions\n",
        "        movie_indices = [item[0] for item in top_n_recommendations]\n",
        "\n",
        "        # Get movie titles from the original movies dataframe\n",
        "        recommended_movies = trainset.to_inner_iid\n",
        "        recommended_movie_titles = [recommended_movies(movie_id) for movie_id in movie_indices]\n",
        "\n",
        "        return recommended_movie_titles\n",
        "\n",
        "    except ValueError as e:\n",
        "        print(f\"Error: {e}\")\n",
        "        return []\n",
        "\n",
        "# Example usage\n",
        "user_id = 'User1'  # Replace with the ID of the user for whom you want to get recommendations\n",
        "recommendations = get_movie_recommendations(user_id, n=5)\n",
        "\n",
        "print(f\"Recommended movies for User {user_id}:\")\n",
        "print(recommendations)\n",
        "\n"
      ],
      "metadata": {
        "colab": {
          "base_uri": "https://localhost:8080/"
        },
        "id": "UFoFvhtBy63T",
        "outputId": "810169dd-2c07-4f70-ae28-05ea06e846c9"
      },
      "execution_count": 3,
      "outputs": [
        {
          "output_type": "stream",
          "name": "stdout",
          "text": [
            "Computing the cosine similarity matrix...\n",
            "Done computing similarity matrix.\n",
            "Error: Item 0 is not part of the trainset.\n",
            "Recommended movies for User User1:\n",
            "[]\n"
          ]
        }
      ]
    }
  ]
}