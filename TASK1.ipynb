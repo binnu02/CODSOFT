{
  "nbformat": 4,
  "nbformat_minor": 0,
  "metadata": {
    "colab": {
      "provenance": [],
      "authorship_tag": "ABX9TyO8KIn5msPO7+Ic/7FO8jR9",
      "include_colab_link": true
    },
    "kernelspec": {
      "name": "python3",
      "display_name": "Python 3"
    },
    "language_info": {
      "name": "python"
    }
  },
  "cells": [
    {
      "cell_type": "markdown",
      "metadata": {
        "id": "view-in-github",
        "colab_type": "text"
      },
      "source": [
        "<a href=\"https://colab.research.google.com/github/binnu02/CODSOFT/blob/main/TASK1.ipynb\" target=\"_parent\"><img src=\"https://colab.research.google.com/assets/colab-badge.svg\" alt=\"Open In Colab\"/></a>"
      ]
    },
    {
      "cell_type": "code",
      "source": [
        "def simple_chatbot(user_input):\n",
        "    # Convert the user input to lowercase for case-insensitive matching\n",
        "    user_input = user_input.lower()\n",
        "\n",
        "    # Define some rules and responses\n",
        "    greetings = ['hello', 'hi', 'hey']\n",
        "    farewells = ['bye', 'goodbye']\n",
        "    asking_name = ['what is your name?', 'who are you?']\n",
        "    compliments = ['you are great', 'nice job']\n",
        "\n",
        "    # Check user input against predefined rules\n",
        "    if any(word in user_input for word in greetings):\n",
        "        return \"Hello! How can I help you today?\"\n",
        "\n",
        "    elif any(word in user_input for word in farewells):\n",
        "        return \"Goodbye! Have a great day.\"\n",
        "\n",
        "    elif any(phrase in user_input for phrase in asking_name):\n",
        "        return \"I am a chatbot. What can I assist you with?\"\n",
        "\n",
        "    elif any(word in user_input for word in compliments):\n",
        "        return \"Thank you! I'm here to assist you.\"\n",
        "\n",
        "    else:\n",
        "        return \"I'm sorry, I didn't understand that. Can you please rephrase or ask another question?\"\n",
        "\n",
        "# Example usage\n",
        "while True:\n",
        "    user_input = input(\"You: \")\n",
        "\n",
        "    if user_input.lower() == 'exit':\n",
        "        print(\"Chatbot: Goodbye!\")\n",
        "        break\n",
        "\n",
        "    response = simple_chatbot(user_input)\n",
        "    print(\"Chatbot:\", response)\n"
      ],
      "metadata": {
        "colab": {
          "base_uri": "https://localhost:8080/"
        },
        "id": "83wI_mHAdwEp",
        "outputId": "cf919c11-a604-4184-94f8-e43889cb3ffd"
      },
      "execution_count": null,
      "outputs": [
        {
          "output_type": "stream",
          "name": "stdout",
          "text": [
            "You: hello\n",
            "Chatbot: Hello! How can I help you today?\n",
            "You: nice job\n",
            "Chatbot: Thank you! I'm here to assist you.\n"
          ]
        }
      ]
    }
  ]
}